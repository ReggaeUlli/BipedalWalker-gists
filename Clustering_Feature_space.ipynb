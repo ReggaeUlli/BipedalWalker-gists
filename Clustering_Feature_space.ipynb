{
  "nbformat": 4,
  "nbformat_minor": 0,
  "metadata": {
    "colab": {
      "name": "Clustering_Feature_space.ipynb",
      "provenance": [],
      "collapsed_sections": [
        "sGlNlpyl7X27",
        "cYGfLaka7cPS",
        "mHoFPc8XCjwk",
        "gRQFn09Rc5t1",
        "x3BsoqypqrkT",
        "Df3JGeN8rKLY",
        "JlSnrAvvuCfm",
        "zQC9FXJIJr43"
      ],
      "toc_visible": true,
      "include_colab_link": true
    },
    "kernelspec": {
      "name": "python3",
      "display_name": "Python 3"
    }
  },
  "cells": [
    {
      "cell_type": "markdown",
      "metadata": {
        "id": "view-in-github",
        "colab_type": "text"
      },
      "source": [
        "<a href=\"https://colab.research.google.com/github/ReggaeUlli/BipedalWalker-gists/blob/master/Clustering_Feature_space.ipynb\" target=\"_parent\"><img src=\"https://colab.research.google.com/assets/colab-badge.svg\" alt=\"Open In Colab\"/></a>"
      ]
    },
    {
      "cell_type": "markdown",
      "metadata": {
        "id": "gyjJRj7I2uef",
        "colab_type": "text"
      },
      "source": [
        "Theory:\n",
        "--\n",
        "\n",
        "Timeseries clustering is very complex, to reduce the complexity we extract metadata from the invervals and cluster them with the more traditional data point clustering methods"
      ]
    },
    {
      "cell_type": "markdown",
      "metadata": {
        "id": "sGlNlpyl7X27",
        "colab_type": "text"
      },
      "source": [
        "Imports\n",
        "--"
      ]
    },
    {
      "cell_type": "code",
      "metadata": {
        "id": "ej6qfIE-jDqm",
        "colab_type": "code",
        "colab": {
          "base_uri": "https://localhost:8080/",
          "height": 35
        },
        "outputId": "f0d2091a-37ac-4344-92c9-15ba512678f9"
      },
      "source": [
        "!git clone https://github.com/philippwulff/behaviour_mining.git"
      ],
      "execution_count": 122,
      "outputs": [
        {
          "output_type": "stream",
          "text": [
            "fatal: destination path 'behaviour_mining' already exists and is not an empty directory.\n"
          ],
          "name": "stdout"
        }
      ]
    },
    {
      "cell_type": "code",
      "metadata": {
        "id": "d7Pu-geRlc0-",
        "colab_type": "code",
        "colab": {}
      },
      "source": [
        "import os\n",
        "\n",
        "import numpy as np\n",
        "import pandas as pd\n",
        "\n",
        "from scipy.signal import find_peaks\n",
        "\n",
        "from sklearn.ensemble import RandomForestClassifier\n",
        "from sklearn.model_selection import train_test_split\n",
        "from sklearn.model_selection import RandomizedSearchCV\n",
        "\n",
        "from sklearn.cluster import KMeans\n",
        "\n",
        "import matplotlib.pyplot as plt\n",
        "import plotly.express as px\n",
        "import plotly.graph_objects as go\n",
        "from plotly.subplots import make_subplots"
      ],
      "execution_count": 123,
      "outputs": []
    },
    {
      "cell_type": "markdown",
      "metadata": {
        "id": "cYGfLaka7cPS",
        "colab_type": "text"
      },
      "source": [
        "# Get data"
      ]
    },
    {
      "cell_type": "code",
      "metadata": {
        "id": "FozHAohAq2V2",
        "colab_type": "code",
        "colab": {}
      },
      "source": [
        "def read_all(folder, nrows=None):\n",
        "    \"\"\"\n",
        "    Read all .csv files from a directory and return the pandas Dataframes.\n",
        "    \"\"\"\n",
        "    dfs = {}\n",
        "\n",
        "    for root,dirs,files in os.walk(folder):\n",
        "        for file in files:\n",
        "            if file.endswith('.csv'):\n",
        "                path = os.path.join(root, str(file))\n",
        "                print('Creating DataFrame from {}'.format(path))\n",
        "                df = pd.read_csv(path, nrows=nrows)\n",
        "                dfs[path] = df\n",
        "\n",
        "    return dfs"
      ],
      "execution_count": 124,
      "outputs": []
    },
    {
      "cell_type": "markdown",
      "metadata": {
        "id": "mHoFPc8XCjwk",
        "colab_type": "text"
      },
      "source": [
        "# Creating the meta data from trajectories"
      ]
    },
    {
      "cell_type": "markdown",
      "metadata": {
        "id": "KHNQn9XkrIHv",
        "colab_type": "text"
      },
      "source": [
        "Using these meta data features:\n",
        "\n",
        "```\n",
        "    columns = ['mean', 'std', 'median', 'quant_25', 'quant_75', 'loc_max_mean', \n",
        "               'loc_max_num', 'loc_min_mean', 'loc_min_num', 'freq_iv', 'strongest_freq']\n",
        "```"
      ]
    },
    {
      "cell_type": "markdown",
      "metadata": {
        "id": "gRQFn09Rc5t1",
        "colab_type": "text"
      },
      "source": [
        "\n",
        "\n",
        "```\n",
        "# Als Code formatiert\n",
        "```\n",
        "\n",
        "Helper functions\n",
        "--"
      ]
    },
    {
      "cell_type": "code",
      "metadata": {
        "id": "MXLH0F905_K4",
        "colab_type": "code",
        "colab": {}
      },
      "source": [
        "def split_ser(ser, n=100):\n",
        "    num_splits = int(len(ser)/n)\n",
        "    splits = []\n",
        "    for i in range(num_splits):\n",
        "        splits.append(ser[i*n:(i+1)*n])\n",
        "\n",
        "    return splits\n",
        "\n",
        "\n",
        "def ser_to_meta(x, obs_name=None):\n",
        "    mean = np.mean(x)\n",
        "    std = np.std(x)\n",
        "    median = np.median(sorted(x))\n",
        "    quant_25 = np.quantile(sorted(x), 0.25)\n",
        "    quant_75 = np.quantile(sorted(x), 0.75)\n",
        "\n",
        "    # find all local maxima with a min distance of 10 between them\n",
        "    loc_max, _ = find_peaks(x, distance=10)\n",
        "    loc_max_mean = np.mean(x[loc_max])\n",
        "    loc_max_num = len(loc_max)\n",
        "    # find all local minima with a min distance of 10 between them\n",
        "    loc_min, _ = find_peaks(x*-1, distance=10)\n",
        "    loc_min_mean = np.mean(x[loc_min])\n",
        "    loc_min_num = len(loc_min)\n",
        "\n",
        "    # find n_bins strongest present frequencies with fast fourier transform\n",
        "    n_bins = 5\n",
        "    fft = np.fft.fft(x)\n",
        "    T = 1 # sampling interval\n",
        "    N = len(x)\n",
        "    f = np.linspace(0, 1 / T, N)\n",
        "    inds = np.argsort(np.abs(fft)[:N // 2])[-n_bins:] # get indexes of strongest freqs\n",
        "    inds = inds[np.where(inds!=0)] # ignore the bin at f=0 (if this was a max) because this is the mean\n",
        "    n_freq = f[inds]\n",
        "\n",
        "    freq_iv = pd.Interval(min(n_freq), max(n_freq), closed='both')\n",
        "    strongest_freq = f[inds[-1]] # np.argsort places hightest at the end\n",
        "\n",
        "    sample = [mean,\n",
        "              std,\n",
        "              median,\n",
        "              quant_25,\n",
        "              quant_75,\n",
        "              loc_max_mean,\n",
        "              loc_max_num,\n",
        "              loc_min_mean,\n",
        "              loc_min_num,\n",
        "              freq_iv,\n",
        "              strongest_freq]\n",
        "    columns = ['mean', 'std', 'median', 'quant_25', 'quant_75', 'loc_max_mean', \n",
        "               'loc_max_num', 'loc_min_mean', 'loc_min_num', 'freq_iv', 'strongest_freq']\n",
        "\n",
        "    if obs_name:\n",
        "        columns = [name+'_'+obs_name for name in columns]\n",
        "\n",
        "    return sample, columns\n",
        "\n",
        "\n",
        "def proc_ser(ser, model_name, obs_name=None, n=100):\n",
        "    splits = split_ser(ser, n)\n",
        "    metas = []\n",
        "    columns = None\n",
        "    for split in splits:\n",
        "        meta, columns = ser_to_meta(split, obs_name)\n",
        "        metas.append(meta)\n",
        "        if not columns:\n",
        "            columns = columns\n",
        "    \n",
        "    df_1 = pd.DataFrame([model_name]*len(metas), columns=['model'])\n",
        "    df_2 = pd.DataFrame(metas, columns=columns)\n",
        "    df = pd.concat([df_1,df_2], axis=1)\n",
        "    return df\n",
        "  \n",
        "def get_data(n_interval_lenght=100):\n",
        "  obs_names = dfs['behaviour_mining/data/BipedalWalker-v3/ppo2/ppo2_BipedalWalker-v3.csv'].columns.values.tolist()\n",
        "  obs_names.remove(\"done\")\n",
        "  obs_names.remove(\"cumulative_reward\")\n",
        "  model_names = [key.split('/')[-2] for key in dfs.keys()]\n",
        "\n",
        "  df_all = pd.DataFrame()\n",
        "\n",
        "  for model_df, model_name in zip(dfs.values(), model_names):\n",
        "    model_meta_df = pd.DataFrame()\n",
        "    for obs_name in obs_names:\n",
        "      series = model_df[obs_name].values\n",
        "      meta_df = proc_ser(series, model_name, obs_name=obs_name)\n",
        "      if (obs_name!=\"rewards\"):\n",
        "        meta_df = meta_df.drop(columns=\"model\")\n",
        "      model_meta_df = pd.concat([model_meta_df, meta_df], axis=1)\n",
        "    df_all = pd.concat([df_all, model_meta_df], axis=0)\n",
        "  print(\"done with importing data\")\n",
        "  print (df_all)\n",
        "  return df_all\n",
        "\n",
        "def remove_unstable_columns(df_all): \n",
        "  for obs_name in obs_names:\n",
        "    #min_freqs, max_freqs = [], []\n",
        "    #for iv in df_all['freq_iv']:\n",
        "      #min_freqs.append(iv.left)\n",
        "      #max_freqs.append(iv.right)\n",
        "    #df_all['min_freq'+'_'+obs_name] = min_freqs\n",
        "    #df_all['max_freq'+'_'+obs_name] = max_freqs\n",
        "    df_all = df_all.drop('loc_max_mean'+'_'+obs_name, axis=1)\n",
        "    df_all = df_all.drop('freq_iv'+'_'+obs_name, axis=1)\n",
        "    df_all = df_all.drop('loc_min_mean'+'_'+obs_name, axis=1)\n",
        "  df_all\n",
        "  return df_all\n",
        "\n",
        "def cluster(df_all, n_clusters=7):\n",
        "  df_without_model = df_all.drop(columns=\"model\")\n",
        "  n_clusters=n_clusters\n",
        "  km = KMeans(n_clusters=n_clusters)\n",
        "  km.fit(df_without_model)\n",
        "  prediction = km.predict(df_without_model)\n",
        "  occurance_dict={}\n",
        "  for i in range(n_clusters):\n",
        "    temp_dict={}\n",
        "    for name in model_names:\n",
        "      temp_dict[name]=0\n",
        "    occurance_dict[i] = temp_dict\n",
        "  for i in range(len(prediction)):\n",
        "    occurance_dict[prediction[i]][df_all.iloc[i,0]] = occurance_dict[prediction[i]][df_all.iloc[i,0]]+1\n",
        "  print(\"number of intervals that an algorithms occurs in the clusters\")\n",
        "  for i in range(n_clusters):\n",
        "    print(\"cluster \"+str(i)+\": \"+str(occurance_dict[i]))\n",
        "\n",
        "def get_data_and_cluster(n_clusters=7, n_interval_lenght=100):\n",
        "  df_all = get_data(n_interval_lenght=n_interval_lenght)\n",
        "  df_all = remove_unstable_columns(df_all)\n",
        "  cluster(df_all, n_clusters=n_clusters)"
      ],
      "execution_count": 126,
      "outputs": []
    },
    {
      "cell_type": "markdown",
      "metadata": {
        "id": "Yw8h7l5tlmxD",
        "colab_type": "text"
      },
      "source": [
        "Concatenate meta data from all models for one observation to a single DataFrame\n",
        "--"
      ]
    },
    {
      "cell_type": "markdown",
      "metadata": {
        "id": "TWgmX6XC1f5I",
        "colab_type": "text"
      },
      "source": [
        "If the trajectory of a model stays constantly 0, the np.mean() function will impute NaN as the mean value. "
      ]
    },
    {
      "cell_type": "markdown",
      "metadata": {
        "id": "TAkceYdvGDfs",
        "colab_type": "text"
      },
      "source": [
        "#clustering"
      ]
    },
    {
      "cell_type": "code",
      "metadata": {
        "id": "PAFu_Dg9bO2w",
        "colab_type": "code",
        "colab": {
          "base_uri": "https://localhost:8080/",
          "height": 581
        },
        "outputId": "959fe11b-bab4-44d5-8b70-cf9e7d4d2b25"
      },
      "source": [
        "get_data_and_cluster(n_clusters=7, n_interval_lenght=100)"
      ],
      "execution_count": 115,
      "outputs": [
        {
          "output_type": "stream",
          "text": [
            "/usr/local/lib/python3.6/dist-packages/numpy/core/fromnumeric.py:3335: RuntimeWarning:\n",
            "\n",
            "Mean of empty slice.\n",
            "\n",
            "/usr/local/lib/python3.6/dist-packages/numpy/core/_methods.py:161: RuntimeWarning:\n",
            "\n",
            "invalid value encountered in double_scalars\n",
            "\n"
          ],
          "name": "stderr"
        },
        {
          "output_type": "stream",
          "text": [
            "done with importing data\n",
            "     model  ...  strongest_freq_action_3\n",
            "0    acktr  ...                 0.070707\n",
            "1    acktr  ...                 0.060606\n",
            "2    acktr  ...                 0.090909\n",
            "3    acktr  ...                 0.212121\n",
            "4    acktr  ...                 0.060606\n",
            "..     ...  ...                      ...\n",
            "995    sac  ...                 0.494949\n",
            "996    sac  ...                 0.494949\n",
            "997    sac  ...                 0.494949\n",
            "998    sac  ...                 0.494949\n",
            "999    sac  ...                 0.494949\n",
            "\n",
            "[7000 rows x 320 columns]\n",
            "number of intervals that an algorithms occurs in the clusters\n",
            "cluster 0: {'acktr': 56, 'td3': 0, 'trpo': 92, 'ppo2': 944, 'a2c': 232, 'ddpg': 0, 'sac': 404}\n",
            "cluster 1: {'acktr': 0, 'td3': 7, 'trpo': 881, 'ppo2': 0, 'a2c': 7, 'ddpg': 0, 'sac': 409}\n",
            "cluster 2: {'acktr': 6, 'td3': 5, 'trpo': 9, 'ppo2': 4, 'a2c': 8, 'ddpg': 5, 'sac': 6}\n",
            "cluster 3: {'acktr': 2, 'td3': 0, 'trpo': 6, 'ppo2': 7, 'a2c': 11, 'ddpg': 193, 'sac': 0}\n",
            "cluster 4: {'acktr': 933, 'td3': 0, 'trpo': 0, 'ppo2': 45, 'a2c': 741, 'ddpg': 0, 'sac': 5}\n",
            "cluster 5: {'acktr': 3, 'td3': 988, 'trpo': 12, 'ppo2': 0, 'a2c': 1, 'ddpg': 0, 'sac': 176}\n",
            "cluster 6: {'acktr': 0, 'td3': 0, 'trpo': 0, 'ppo2': 0, 'a2c': 0, 'ddpg': 802, 'sac': 0}\n"
          ],
          "name": "stdout"
        }
      ]
    },
    {
      "cell_type": "code",
      "metadata": {
        "id": "DwRW4DeYbGTX",
        "colab_type": "code",
        "colab": {
          "base_uri": "https://localhost:8080/",
          "height": 581
        },
        "outputId": "db06490f-e8d6-49ec-cbc6-4226d84fd7b9"
      },
      "source": [
        "get_data_and_cluster(n_clusters=7, n_interval_lenght=30)"
      ],
      "execution_count": 116,
      "outputs": [
        {
          "output_type": "stream",
          "text": [
            "/usr/local/lib/python3.6/dist-packages/numpy/core/fromnumeric.py:3335: RuntimeWarning:\n",
            "\n",
            "Mean of empty slice.\n",
            "\n",
            "/usr/local/lib/python3.6/dist-packages/numpy/core/_methods.py:161: RuntimeWarning:\n",
            "\n",
            "invalid value encountered in double_scalars\n",
            "\n"
          ],
          "name": "stderr"
        },
        {
          "output_type": "stream",
          "text": [
            "done with importing data\n",
            "     model  ...  strongest_freq_action_3\n",
            "0    acktr  ...                 0.070707\n",
            "1    acktr  ...                 0.060606\n",
            "2    acktr  ...                 0.090909\n",
            "3    acktr  ...                 0.212121\n",
            "4    acktr  ...                 0.060606\n",
            "..     ...  ...                      ...\n",
            "995    sac  ...                 0.494949\n",
            "996    sac  ...                 0.494949\n",
            "997    sac  ...                 0.494949\n",
            "998    sac  ...                 0.494949\n",
            "999    sac  ...                 0.494949\n",
            "\n",
            "[7000 rows x 320 columns]\n",
            "number of intervals that an algorithms occurs in the clusters\n",
            "cluster 0: {'acktr': 933, 'td3': 0, 'trpo': 0, 'ppo2': 45, 'a2c': 742, 'ddpg': 0, 'sac': 5}\n",
            "cluster 1: {'acktr': 55, 'td3': 0, 'trpo': 92, 'ppo2': 944, 'a2c': 230, 'ddpg': 0, 'sac': 409}\n",
            "cluster 2: {'acktr': 6, 'td3': 5, 'trpo': 9, 'ppo2': 4, 'a2c': 8, 'ddpg': 5, 'sac': 6}\n",
            "cluster 3: {'acktr': 0, 'td3': 0, 'trpo': 0, 'ppo2': 0, 'a2c': 0, 'ddpg': 802, 'sac': 0}\n",
            "cluster 4: {'acktr': 0, 'td3': 7, 'trpo': 881, 'ppo2': 0, 'a2c': 7, 'ddpg': 0, 'sac': 410}\n",
            "cluster 5: {'acktr': 3, 'td3': 988, 'trpo': 12, 'ppo2': 0, 'a2c': 1, 'ddpg': 0, 'sac': 170}\n",
            "cluster 6: {'acktr': 3, 'td3': 0, 'trpo': 6, 'ppo2': 7, 'a2c': 12, 'ddpg': 193, 'sac': 0}\n"
          ],
          "name": "stdout"
        }
      ]
    },
    {
      "cell_type": "code",
      "metadata": {
        "id": "QbwbyUfsbRqh",
        "colab_type": "code",
        "colab": {
          "base_uri": "https://localhost:8080/",
          "height": 581
        },
        "outputId": "0178873e-2044-4249-91c4-3faacfa72091"
      },
      "source": [
        "get_data_and_cluster(n_clusters=7, n_interval_lenght=15)"
      ],
      "execution_count": 117,
      "outputs": [
        {
          "output_type": "stream",
          "text": [
            "/usr/local/lib/python3.6/dist-packages/numpy/core/fromnumeric.py:3335: RuntimeWarning:\n",
            "\n",
            "Mean of empty slice.\n",
            "\n",
            "/usr/local/lib/python3.6/dist-packages/numpy/core/_methods.py:161: RuntimeWarning:\n",
            "\n",
            "invalid value encountered in double_scalars\n",
            "\n"
          ],
          "name": "stderr"
        },
        {
          "output_type": "stream",
          "text": [
            "done with importing data\n",
            "     model  ...  strongest_freq_action_3\n",
            "0    acktr  ...                 0.070707\n",
            "1    acktr  ...                 0.060606\n",
            "2    acktr  ...                 0.090909\n",
            "3    acktr  ...                 0.212121\n",
            "4    acktr  ...                 0.060606\n",
            "..     ...  ...                      ...\n",
            "995    sac  ...                 0.494949\n",
            "996    sac  ...                 0.494949\n",
            "997    sac  ...                 0.494949\n",
            "998    sac  ...                 0.494949\n",
            "999    sac  ...                 0.494949\n",
            "\n",
            "[7000 rows x 320 columns]\n",
            "number of intervals that an algorithms occurs in the clusters\n",
            "cluster 0: {'acktr': 933, 'td3': 0, 'trpo': 0, 'ppo2': 45, 'a2c': 742, 'ddpg': 0, 'sac': 5}\n",
            "cluster 1: {'acktr': 3, 'td3': 988, 'trpo': 12, 'ppo2': 0, 'a2c': 1, 'ddpg': 0, 'sac': 170}\n",
            "cluster 2: {'acktr': 6, 'td3': 5, 'trpo': 9, 'ppo2': 4, 'a2c': 8, 'ddpg': 5, 'sac': 6}\n",
            "cluster 3: {'acktr': 55, 'td3': 0, 'trpo': 92, 'ppo2': 944, 'a2c': 230, 'ddpg': 0, 'sac': 409}\n",
            "cluster 4: {'acktr': 0, 'td3': 0, 'trpo': 0, 'ppo2': 0, 'a2c': 0, 'ddpg': 802, 'sac': 0}\n",
            "cluster 5: {'acktr': 0, 'td3': 7, 'trpo': 881, 'ppo2': 0, 'a2c': 7, 'ddpg': 0, 'sac': 410}\n",
            "cluster 6: {'acktr': 3, 'td3': 0, 'trpo': 6, 'ppo2': 7, 'a2c': 12, 'ddpg': 193, 'sac': 0}\n"
          ],
          "name": "stdout"
        }
      ]
    },
    {
      "cell_type": "code",
      "metadata": {
        "id": "x34DT7VvcBvc",
        "colab_type": "code",
        "colab": {
          "base_uri": "https://localhost:8080/",
          "height": 508
        },
        "outputId": "3fcb7906-94c1-4005-ddf7-0850a48bb618"
      },
      "source": [
        "get_data_and_cluster(n_clusters=3, n_interval_lenght=100)"
      ],
      "execution_count": 127,
      "outputs": [
        {
          "output_type": "stream",
          "text": [
            "/usr/local/lib/python3.6/dist-packages/numpy/core/fromnumeric.py:3335: RuntimeWarning:\n",
            "\n",
            "Mean of empty slice.\n",
            "\n",
            "/usr/local/lib/python3.6/dist-packages/numpy/core/_methods.py:161: RuntimeWarning:\n",
            "\n",
            "invalid value encountered in double_scalars\n",
            "\n"
          ],
          "name": "stderr"
        },
        {
          "output_type": "stream",
          "text": [
            "done with importing data\n",
            "     model  ...  strongest_freq_action_3\n",
            "0    acktr  ...                 0.070707\n",
            "1    acktr  ...                 0.060606\n",
            "2    acktr  ...                 0.090909\n",
            "3    acktr  ...                 0.212121\n",
            "4    acktr  ...                 0.060606\n",
            "..     ...  ...                      ...\n",
            "995    sac  ...                 0.494949\n",
            "996    sac  ...                 0.494949\n",
            "997    sac  ...                 0.494949\n",
            "998    sac  ...                 0.494949\n",
            "999    sac  ...                 0.494949\n",
            "\n",
            "[7000 rows x 320 columns]\n",
            "number of intervals that an algorithms occurs in the clusters\n",
            "cluster 0: {'acktr': 155, 'td3': 25, 'trpo': 122, 'ppo2': 989, 'a2c': 564, 'ddpg': 163, 'sac': 511}\n",
            "cluster 1: {'acktr': 839, 'td3': 970, 'trpo': 869, 'ppo2': 7, 'a2c': 428, 'ddpg': 832, 'sac': 483}\n",
            "cluster 2: {'acktr': 6, 'td3': 5, 'trpo': 9, 'ppo2': 4, 'a2c': 8, 'ddpg': 5, 'sac': 6}\n"
          ],
          "name": "stdout"
        }
      ]
    },
    {
      "cell_type": "code",
      "metadata": {
        "id": "UOncbmWQcEXT",
        "colab_type": "code",
        "colab": {
          "base_uri": "https://localhost:8080/",
          "height": 508
        },
        "outputId": "4296ba99-42f4-475c-a32f-ea6973386bd2"
      },
      "source": [
        "get_data_and_cluster(n_clusters=3, n_interval_lenght=30)"
      ],
      "execution_count": 128,
      "outputs": [
        {
          "output_type": "stream",
          "text": [
            "/usr/local/lib/python3.6/dist-packages/numpy/core/fromnumeric.py:3335: RuntimeWarning:\n",
            "\n",
            "Mean of empty slice.\n",
            "\n",
            "/usr/local/lib/python3.6/dist-packages/numpy/core/_methods.py:161: RuntimeWarning:\n",
            "\n",
            "invalid value encountered in double_scalars\n",
            "\n"
          ],
          "name": "stderr"
        },
        {
          "output_type": "stream",
          "text": [
            "done with importing data\n",
            "     model  ...  strongest_freq_action_3\n",
            "0    acktr  ...                 0.070707\n",
            "1    acktr  ...                 0.060606\n",
            "2    acktr  ...                 0.090909\n",
            "3    acktr  ...                 0.212121\n",
            "4    acktr  ...                 0.060606\n",
            "..     ...  ...                      ...\n",
            "995    sac  ...                 0.494949\n",
            "996    sac  ...                 0.494949\n",
            "997    sac  ...                 0.494949\n",
            "998    sac  ...                 0.494949\n",
            "999    sac  ...                 0.494949\n",
            "\n",
            "[7000 rows x 320 columns]\n",
            "number of intervals that an algorithms occurs in the clusters\n",
            "cluster 0: {'acktr': 6, 'td3': 5, 'trpo': 9, 'ppo2': 4, 'a2c': 8, 'ddpg': 5, 'sac': 6}\n",
            "cluster 1: {'acktr': 155, 'td3': 25, 'trpo': 122, 'ppo2': 989, 'a2c': 564, 'ddpg': 163, 'sac': 511}\n",
            "cluster 2: {'acktr': 839, 'td3': 970, 'trpo': 869, 'ppo2': 7, 'a2c': 428, 'ddpg': 832, 'sac': 483}\n"
          ],
          "name": "stdout"
        }
      ]
    },
    {
      "cell_type": "code",
      "metadata": {
        "id": "8WpovOxYcEqj",
        "colab_type": "code",
        "colab": {
          "base_uri": "https://localhost:8080/",
          "height": 508
        },
        "outputId": "1651b974-ed5d-4c23-cdcc-b59a80ad4609"
      },
      "source": [
        "get_data_and_cluster(n_clusters=3, n_interval_lenght=15)"
      ],
      "execution_count": 129,
      "outputs": [
        {
          "output_type": "stream",
          "text": [
            "/usr/local/lib/python3.6/dist-packages/numpy/core/fromnumeric.py:3335: RuntimeWarning:\n",
            "\n",
            "Mean of empty slice.\n",
            "\n",
            "/usr/local/lib/python3.6/dist-packages/numpy/core/_methods.py:161: RuntimeWarning:\n",
            "\n",
            "invalid value encountered in double_scalars\n",
            "\n"
          ],
          "name": "stderr"
        },
        {
          "output_type": "stream",
          "text": [
            "done with importing data\n",
            "     model  ...  strongest_freq_action_3\n",
            "0    acktr  ...                 0.070707\n",
            "1    acktr  ...                 0.060606\n",
            "2    acktr  ...                 0.090909\n",
            "3    acktr  ...                 0.212121\n",
            "4    acktr  ...                 0.060606\n",
            "..     ...  ...                      ...\n",
            "995    sac  ...                 0.494949\n",
            "996    sac  ...                 0.494949\n",
            "997    sac  ...                 0.494949\n",
            "998    sac  ...                 0.494949\n",
            "999    sac  ...                 0.494949\n",
            "\n",
            "[7000 rows x 320 columns]\n",
            "number of intervals that an algorithms occurs in the clusters\n",
            "cluster 0: {'acktr': 994, 'td3': 995, 'trpo': 988, 'ppo2': 995, 'a2c': 991, 'ddpg': 0, 'sac': 994}\n",
            "cluster 1: {'acktr': 0, 'td3': 0, 'trpo': 3, 'ppo2': 1, 'a2c': 0, 'ddpg': 995, 'sac': 0}\n",
            "cluster 2: {'acktr': 6, 'td3': 5, 'trpo': 9, 'ppo2': 4, 'a2c': 9, 'ddpg': 5, 'sac': 6}\n"
          ],
          "name": "stdout"
        }
      ]
    }
  ]
}